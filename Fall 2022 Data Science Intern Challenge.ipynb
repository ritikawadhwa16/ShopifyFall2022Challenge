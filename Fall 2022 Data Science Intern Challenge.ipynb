{
 "cells": [
  {
   "cell_type": "markdown",
   "id": "8ab9a135",
   "metadata": {},
   "source": [
    "# Fall 2022 Data Science Intern Challenge "
   ]
  },
  {
   "cell_type": "markdown",
   "id": "73c892bd",
   "metadata": {},
   "source": [
    "## Question 1"
   ]
  },
  {
   "cell_type": "markdown",
   "id": "4513e498",
   "metadata": {},
   "source": [
    "#### a)\tThe calculation is off since each order has different number of items ranging from 1 to 2000, which significantly increases the price value of the order. The order amount for 2000 items is 704,000 which is why the AOV- Average Order Value is extremely high for a pair of sneakers. \n",
    "####  A better way to evaluate this would to be measure a new metric – average price for each item. The average value for that column will be a much better metric to analyze the average price.\n",
    "\n",
    "#### b) I would introduce a new column – Avg. Price per item which calculates the total order amount divided by the number of items for that order. \n",
    "#### Then I would calculate the average of that column which will give us AIV – Average Item Value. So, we can track and analyze the average amount/price for each item sold. \n",
    "\n",
    "#### c)\tValue for AIV (Average Item Value) – 387.74$ \n"
   ]
  },
  {
   "cell_type": "markdown",
   "id": "07fc0d4f",
   "metadata": {},
   "source": [
    "## Question 2"
   ]
  },
  {
   "cell_type": "markdown",
   "id": "860b18ed",
   "metadata": {},
   "source": [
    "#### a)\tSince ShipperID for Speedy Express is 1, we count the number of orders with that shipper id\n",
    "\n",
    "#### Query: \n",
    "#### SELECT COUNT(OrderID) \n",
    "#### FROM [Orders]\n",
    "#### WHERE ShipperID==1;\n",
    "\n",
    "#### Output: 54\n",
    "\n",
    "#### b)\tUsing Count and Group-by function to find which employee has the maximum orders, and joining it with the Employees table using EmployeeID to find the Last name\n",
    "\n",
    "#### Query: \n",
    "#### SELECT Orders.EmployeeID, COUNT(*), Employees.LastName\n",
    "#### FROM Orders,Employees\n",
    "#### WHERE Orders.EmployeeID = Employees.EmployeeID\n",
    "#### ORDER BY COUNT(*) desc\n",
    "#### LIMIT 1;\n",
    "\n",
    "#### Output: \n",
    "#### Last Name = Buchanan \n",
    "#### Count= 196\n",
    "#### Employee ID= 5\n",
    "\n",
    "#### c)\tJoining the 4 tables – Customers, Orders, OrderDetails, Products using different IDs and using Count to find the product which is sold the maximum \n",
    "\n",
    "#### Query: \n",
    "#### SELECT Customers.CustomerID, Customers.Country, Orders.OrderID, OrderDetails.ProductID, Products.ProductName, Count(*)\n",
    "#### FROM Customers, Orders, OrderDetails, Products\n",
    "#### WHERE Customers.Country = 'Germany' \n",
    "#### AND Customers.CustomerID = Orders.CustomerID\n",
    "#### AND Orders.OrderID = OrderDetails.OrderID \n",
    "#### AND OrderDetails.ProductID = Products.ProductID\n",
    "#### ORDER BY Count(*) desc;\n",
    "\n",
    "#### Output:\n",
    "\n",
    "#### ProductName = Boston Crab Meat\n",
    "#### ProductID = 40\n",
    "#### Count = 74\n"
   ]
  },
  {
   "cell_type": "code",
   "execution_count": null,
   "id": "968edf8c",
   "metadata": {},
   "outputs": [],
   "source": []
  },
  {
   "cell_type": "code",
   "execution_count": null,
   "id": "0aa953dc",
   "metadata": {},
   "outputs": [],
   "source": []
  }
 ],
 "metadata": {
  "kernelspec": {
   "display_name": "Python 3 (ipykernel)",
   "language": "python",
   "name": "python3"
  },
  "language_info": {
   "codemirror_mode": {
    "name": "ipython",
    "version": 3
   },
   "file_extension": ".py",
   "mimetype": "text/x-python",
   "name": "python",
   "nbconvert_exporter": "python",
   "pygments_lexer": "ipython3",
   "version": "3.9.7"
  }
 },
 "nbformat": 4,
 "nbformat_minor": 5
}
